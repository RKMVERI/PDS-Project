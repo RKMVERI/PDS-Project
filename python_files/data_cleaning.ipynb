{
 "cells": [
  {
   "cell_type": "markdown",
   "id": "295fe656",
   "metadata": {},
   "source": [
    "### Import the python modules"
   ]
  },
  {
   "cell_type": "code",
   "execution_count": 16,
   "id": "10c1f2b2",
   "metadata": {},
   "outputs": [],
   "source": [
    "import numpy as np\n",
    "import pandas as pd\n",
    "import datetime\n",
    "import os"
   ]
  },
  {
   "cell_type": "code",
   "execution_count": 1,
   "id": "0bd04a6b",
   "metadata": {},
   "outputs": [
    {
     "data": {
      "text/plain": [
       "'C:\\\\Users\\\\System Administrator\\\\Desktop\\\\PDS-Project\\\\python_files'"
      ]
     },
     "execution_count": 1,
     "metadata": {},
     "output_type": "execute_result"
    }
   ],
   "source": [
    "pwd"
   ]
  },
  {
   "cell_type": "code",
   "execution_count": 2,
   "id": "2b4499b2",
   "metadata": {},
   "outputs": [],
   "source": [
    "path = 'C:\\\\Users\\\\System Administrator\\\\Desktop\\\\PDS-Project\\\\data'"
   ]
  },
  {
   "cell_type": "markdown",
   "id": "657ef09b",
   "metadata": {},
   "source": [
    "### Read the data files"
   ]
  },
  {
   "cell_type": "code",
   "execution_count": 23,
   "id": "91b10501",
   "metadata": {},
   "outputs": [],
   "source": [
    "fed1 = pd.read_csv(\"../data/DEF survey (Responses) - Form Responses 1.csv\", header = 0,\\\n",
    "                  names = ['ts','age','sex','work','phy_ff','phy_health','phy_bw', 'phy_ex', 'meal',\n",
    "              'height','weight','exercise','fruit','veg','cook','spend','income','gymtime',\n",
    "              'disease','review','rate'])\n",
    "fed2 = pd.read_csv(\"../data/DEF2 (Responses) - Form Responses 1.csv\", header = 0, \\\n",
    "                  names = ['ts','age','sex','work','phy_ff','phy_health','phy_bw', 'phy_ex', 'meal',\n",
    "              'height','weight','exercise','fruit','veg','cook','spend','income','gymtime',\n",
    "              'disease','review','rate'])"
   ]
  },
  {
   "cell_type": "code",
   "execution_count": 24,
   "id": "0a350d8f",
   "metadata": {},
   "outputs": [
    {
     "data": {
      "text/html": [
       "<div>\n",
       "<style scoped>\n",
       "    .dataframe tbody tr th:only-of-type {\n",
       "        vertical-align: middle;\n",
       "    }\n",
       "\n",
       "    .dataframe tbody tr th {\n",
       "        vertical-align: top;\n",
       "    }\n",
       "\n",
       "    .dataframe thead th {\n",
       "        text-align: right;\n",
       "    }\n",
       "</style>\n",
       "<table border=\"1\" class=\"dataframe\">\n",
       "  <thead>\n",
       "    <tr style=\"text-align: right;\">\n",
       "      <th></th>\n",
       "      <th>ts</th>\n",
       "      <th>age</th>\n",
       "      <th>sex</th>\n",
       "      <th>work</th>\n",
       "      <th>phy_ff</th>\n",
       "      <th>phy_health</th>\n",
       "      <th>phy_bw</th>\n",
       "      <th>phy_ex</th>\n",
       "      <th>meal</th>\n",
       "      <th>height</th>\n",
       "      <th>...</th>\n",
       "      <th>exercise</th>\n",
       "      <th>fruit</th>\n",
       "      <th>veg</th>\n",
       "      <th>cook</th>\n",
       "      <th>spend</th>\n",
       "      <th>income</th>\n",
       "      <th>gymtime</th>\n",
       "      <th>disease</th>\n",
       "      <th>review</th>\n",
       "      <th>rate</th>\n",
       "    </tr>\n",
       "  </thead>\n",
       "  <tbody>\n",
       "    <tr>\n",
       "      <th>0</th>\n",
       "      <td>10/19/2021 18:37:01</td>\n",
       "      <td>23</td>\n",
       "      <td>Male</td>\n",
       "      <td>Sedentary</td>\n",
       "      <td>5</td>\n",
       "      <td>10</td>\n",
       "      <td>8</td>\n",
       "      <td>1</td>\n",
       "      <td>1</td>\n",
       "      <td>7.0</td>\n",
       "      <td>...</td>\n",
       "      <td>Do not interested</td>\n",
       "      <td>1</td>\n",
       "      <td>3</td>\n",
       "      <td>5</td>\n",
       "      <td>30000</td>\n",
       "      <td>12345</td>\n",
       "      <td>2 Hour</td>\n",
       "      <td>FEVER</td>\n",
       "      <td>Good</td>\n",
       "      <td>5</td>\n",
       "    </tr>\n",
       "    <tr>\n",
       "      <th>1</th>\n",
       "      <td>10/19/2021 20:05:43</td>\n",
       "      <td>21</td>\n",
       "      <td>Male</td>\n",
       "      <td>Moderate</td>\n",
       "      <td>7</td>\n",
       "      <td>8</td>\n",
       "      <td>6</td>\n",
       "      <td>7</td>\n",
       "      <td>4</td>\n",
       "      <td>6.0</td>\n",
       "      <td>...</td>\n",
       "      <td>Others</td>\n",
       "      <td>1</td>\n",
       "      <td>2</td>\n",
       "      <td>1</td>\n",
       "      <td>1000</td>\n",
       "      <td>50000</td>\n",
       "      <td>Not at all</td>\n",
       "      <td>No</td>\n",
       "      <td>NaN</td>\n",
       "      <td>4</td>\n",
       "    </tr>\n",
       "    <tr>\n",
       "      <th>2</th>\n",
       "      <td>10/19/2021 20:18:40</td>\n",
       "      <td>23</td>\n",
       "      <td>Male</td>\n",
       "      <td>Moderate</td>\n",
       "      <td>6</td>\n",
       "      <td>9</td>\n",
       "      <td>8</td>\n",
       "      <td>8</td>\n",
       "      <td>4</td>\n",
       "      <td>5.6</td>\n",
       "      <td>...</td>\n",
       "      <td>Others</td>\n",
       "      <td>1</td>\n",
       "      <td>2</td>\n",
       "      <td>4</td>\n",
       "      <td>300</td>\n",
       "      <td>6500</td>\n",
       "      <td>1 Hour</td>\n",
       "      <td>No</td>\n",
       "      <td>NaN</td>\n",
       "      <td>5</td>\n",
       "    </tr>\n",
       "    <tr>\n",
       "      <th>3</th>\n",
       "      <td>10/20/2021 11:03:47</td>\n",
       "      <td>21</td>\n",
       "      <td>Male</td>\n",
       "      <td>Moderate</td>\n",
       "      <td>7</td>\n",
       "      <td>6</td>\n",
       "      <td>7</td>\n",
       "      <td>8</td>\n",
       "      <td>5</td>\n",
       "      <td>6.0</td>\n",
       "      <td>...</td>\n",
       "      <td>Walk, Run, Outdoor Games, Others</td>\n",
       "      <td>1</td>\n",
       "      <td>2</td>\n",
       "      <td>2</td>\n",
       "      <td>3000</td>\n",
       "      <td>50000</td>\n",
       "      <td>Not at all</td>\n",
       "      <td>No</td>\n",
       "      <td>NaN</td>\n",
       "      <td>5</td>\n",
       "    </tr>\n",
       "    <tr>\n",
       "      <th>4</th>\n",
       "      <td>10/20/2021 11:06:04</td>\n",
       "      <td>23</td>\n",
       "      <td>Male</td>\n",
       "      <td>Moderate</td>\n",
       "      <td>6</td>\n",
       "      <td>9</td>\n",
       "      <td>8</td>\n",
       "      <td>8</td>\n",
       "      <td>4</td>\n",
       "      <td>5.6</td>\n",
       "      <td>...</td>\n",
       "      <td>Walk, Weight lifting, Outdoor Games, Others</td>\n",
       "      <td>0</td>\n",
       "      <td>2</td>\n",
       "      <td>3</td>\n",
       "      <td>500</td>\n",
       "      <td>6500</td>\n",
       "      <td>1 Hour</td>\n",
       "      <td>No</td>\n",
       "      <td>It's really good.</td>\n",
       "      <td>5</td>\n",
       "    </tr>\n",
       "  </tbody>\n",
       "</table>\n",
       "<p>5 rows × 21 columns</p>\n",
       "</div>"
      ],
      "text/plain": [
       "                    ts  age   sex       work  phy_ff  phy_health  phy_bw  \\\n",
       "0  10/19/2021 18:37:01   23  Male  Sedentary       5          10       8   \n",
       "1  10/19/2021 20:05:43   21  Male   Moderate       7           8       6   \n",
       "2  10/19/2021 20:18:40   23  Male   Moderate       6           9       8   \n",
       "3  10/20/2021 11:03:47   21  Male   Moderate       7           6       7   \n",
       "4  10/20/2021 11:06:04   23  Male   Moderate       6           9       8   \n",
       "\n",
       "   phy_ex meal  height  ...                                     exercise  \\\n",
       "0       1    1     7.0  ...                            Do not interested   \n",
       "1       7    4     6.0  ...                                       Others   \n",
       "2       8    4     5.6  ...                                       Others   \n",
       "3       8    5     6.0  ...             Walk, Run, Outdoor Games, Others   \n",
       "4       8    4     5.6  ...  Walk, Weight lifting, Outdoor Games, Others   \n",
       "\n",
       "  fruit  veg  cook  spend  income     gymtime disease             review rate  \n",
       "0     1    3     5  30000   12345      2 Hour   FEVER               Good    5  \n",
       "1     1    2     1   1000   50000  Not at all      No                NaN    4  \n",
       "2     1    2     4    300    6500      1 Hour      No                NaN    5  \n",
       "3     1    2     2   3000   50000  Not at all      No                NaN    5  \n",
       "4     0    2     3    500    6500      1 Hour      No  It's really good.    5  \n",
       "\n",
       "[5 rows x 21 columns]"
      ]
     },
     "execution_count": 24,
     "metadata": {},
     "output_type": "execute_result"
    }
   ],
   "source": [
    "fed1.head()"
   ]
  },
  {
   "cell_type": "code",
   "execution_count": 25,
   "id": "b1f7f1c8",
   "metadata": {
    "scrolled": true
   },
   "outputs": [
    {
     "data": {
      "text/html": [
       "<div>\n",
       "<style scoped>\n",
       "    .dataframe tbody tr th:only-of-type {\n",
       "        vertical-align: middle;\n",
       "    }\n",
       "\n",
       "    .dataframe tbody tr th {\n",
       "        vertical-align: top;\n",
       "    }\n",
       "\n",
       "    .dataframe thead th {\n",
       "        text-align: right;\n",
       "    }\n",
       "</style>\n",
       "<table border=\"1\" class=\"dataframe\">\n",
       "  <thead>\n",
       "    <tr style=\"text-align: right;\">\n",
       "      <th></th>\n",
       "      <th>ts</th>\n",
       "      <th>age</th>\n",
       "      <th>sex</th>\n",
       "      <th>work</th>\n",
       "      <th>phy_ff</th>\n",
       "      <th>phy_health</th>\n",
       "      <th>phy_bw</th>\n",
       "      <th>phy_ex</th>\n",
       "      <th>meal</th>\n",
       "      <th>height</th>\n",
       "      <th>...</th>\n",
       "      <th>exercise</th>\n",
       "      <th>fruit</th>\n",
       "      <th>veg</th>\n",
       "      <th>cook</th>\n",
       "      <th>spend</th>\n",
       "      <th>income</th>\n",
       "      <th>gymtime</th>\n",
       "      <th>disease</th>\n",
       "      <th>review</th>\n",
       "      <th>rate</th>\n",
       "    </tr>\n",
       "  </thead>\n",
       "  <tbody>\n",
       "    <tr>\n",
       "      <th>0</th>\n",
       "      <td>10/20/2021 11:25:38</td>\n",
       "      <td>24.0</td>\n",
       "      <td>Male</td>\n",
       "      <td>Moderate</td>\n",
       "      <td>2</td>\n",
       "      <td>2</td>\n",
       "      <td>3</td>\n",
       "      <td>3</td>\n",
       "      <td>3</td>\n",
       "      <td>5.70</td>\n",
       "      <td>...</td>\n",
       "      <td>Others</td>\n",
       "      <td>0</td>\n",
       "      <td>1</td>\n",
       "      <td>1</td>\n",
       "      <td>1000</td>\n",
       "      <td>12000</td>\n",
       "      <td>Not at all</td>\n",
       "      <td>No</td>\n",
       "      <td>NaN</td>\n",
       "      <td>4</td>\n",
       "    </tr>\n",
       "    <tr>\n",
       "      <th>1</th>\n",
       "      <td>10/20/2021 11:26:15</td>\n",
       "      <td>24.0</td>\n",
       "      <td>Female</td>\n",
       "      <td>Moderate</td>\n",
       "      <td>2</td>\n",
       "      <td>3</td>\n",
       "      <td>2</td>\n",
       "      <td>3</td>\n",
       "      <td>4</td>\n",
       "      <td>5.40</td>\n",
       "      <td>...</td>\n",
       "      <td>Walk, Dance, Outdoor Games, Others</td>\n",
       "      <td>0</td>\n",
       "      <td>2</td>\n",
       "      <td>1</td>\n",
       "      <td>0</td>\n",
       "      <td>10000</td>\n",
       "      <td>Not at all</td>\n",
       "      <td>No</td>\n",
       "      <td>NaN</td>\n",
       "      <td>3</td>\n",
       "    </tr>\n",
       "    <tr>\n",
       "      <th>2</th>\n",
       "      <td>10/20/2021 11:30:49</td>\n",
       "      <td>20.0</td>\n",
       "      <td>Male</td>\n",
       "      <td>Hardwork</td>\n",
       "      <td>5</td>\n",
       "      <td>10</td>\n",
       "      <td>10</td>\n",
       "      <td>10</td>\n",
       "      <td>4</td>\n",
       "      <td>5.50</td>\n",
       "      <td>...</td>\n",
       "      <td>Walk, Run</td>\n",
       "      <td>3</td>\n",
       "      <td>5</td>\n",
       "      <td>5</td>\n",
       "      <td>0</td>\n",
       "      <td>30000</td>\n",
       "      <td>Not at all</td>\n",
       "      <td>No</td>\n",
       "      <td>Very goodod survey it was.</td>\n",
       "      <td>5</td>\n",
       "    </tr>\n",
       "    <tr>\n",
       "      <th>3</th>\n",
       "      <td>10/20/2021 11:39:07</td>\n",
       "      <td>20.0</td>\n",
       "      <td>Male</td>\n",
       "      <td>Moderate</td>\n",
       "      <td>3</td>\n",
       "      <td>3</td>\n",
       "      <td>2</td>\n",
       "      <td>1</td>\n",
       "      <td>5</td>\n",
       "      <td>5.11</td>\n",
       "      <td>...</td>\n",
       "      <td>Walk, Weight lifting</td>\n",
       "      <td>1</td>\n",
       "      <td>2</td>\n",
       "      <td>1</td>\n",
       "      <td>200</td>\n",
       "      <td>90000</td>\n",
       "      <td>Not at all</td>\n",
       "      <td>No</td>\n",
       "      <td>✌🏻</td>\n",
       "      <td>5</td>\n",
       "    </tr>\n",
       "    <tr>\n",
       "      <th>4</th>\n",
       "      <td>10/20/2021 11:39:28</td>\n",
       "      <td>20.0</td>\n",
       "      <td>Male</td>\n",
       "      <td>Moderate</td>\n",
       "      <td>2</td>\n",
       "      <td>2</td>\n",
       "      <td>4</td>\n",
       "      <td>4</td>\n",
       "      <td>3</td>\n",
       "      <td>5.60</td>\n",
       "      <td>...</td>\n",
       "      <td>Walk, Weight lifting, Others</td>\n",
       "      <td>1</td>\n",
       "      <td>2</td>\n",
       "      <td>0</td>\n",
       "      <td>0</td>\n",
       "      <td>10000</td>\n",
       "      <td>1 Hour</td>\n",
       "      <td>Sinusitis</td>\n",
       "      <td>NaN</td>\n",
       "      <td>3</td>\n",
       "    </tr>\n",
       "  </tbody>\n",
       "</table>\n",
       "<p>5 rows × 21 columns</p>\n",
       "</div>"
      ],
      "text/plain": [
       "                    ts   age     sex      work  phy_ff  phy_health  phy_bw  \\\n",
       "0  10/20/2021 11:25:38  24.0    Male  Moderate       2           2       3   \n",
       "1  10/20/2021 11:26:15  24.0  Female  Moderate       2           3       2   \n",
       "2  10/20/2021 11:30:49  20.0    Male  Hardwork       5          10      10   \n",
       "3  10/20/2021 11:39:07  20.0    Male  Moderate       3           3       2   \n",
       "4  10/20/2021 11:39:28  20.0    Male  Moderate       2           2       4   \n",
       "\n",
       "   phy_ex meal  height  ...                            exercise fruit  veg  \\\n",
       "0       3    3    5.70  ...                              Others     0    1   \n",
       "1       3    4    5.40  ...  Walk, Dance, Outdoor Games, Others     0    2   \n",
       "2      10    4    5.50  ...                           Walk, Run     3    5   \n",
       "3       1    5    5.11  ...                Walk, Weight lifting     1    2   \n",
       "4       4    3    5.60  ...        Walk, Weight lifting, Others     1    2   \n",
       "\n",
       "   cook  spend  income     gymtime     disease                      review  \\\n",
       "0     1   1000   12000  Not at all          No                         NaN   \n",
       "1     1      0   10000  Not at all          No                         NaN   \n",
       "2     5      0   30000  Not at all          No  Very goodod survey it was.   \n",
       "3     1    200   90000  Not at all          No                          ✌🏻   \n",
       "4     0      0   10000      1 Hour  Sinusitis                          NaN   \n",
       "\n",
       "  rate  \n",
       "0    4  \n",
       "1    3  \n",
       "2    5  \n",
       "3    5  \n",
       "4    3  \n",
       "\n",
       "[5 rows x 21 columns]"
      ]
     },
     "execution_count": 25,
     "metadata": {},
     "output_type": "execute_result"
    }
   ],
   "source": [
    "fed2.head()"
   ]
  },
  {
   "cell_type": "code",
   "execution_count": 26,
   "id": "99564a78",
   "metadata": {},
   "outputs": [
    {
     "name": "stdout",
     "output_type": "stream",
     "text": [
      "(45, 21) (213, 21)\n"
     ]
    }
   ],
   "source": [
    "print(fed1.shape, fed2.shape)"
   ]
  },
  {
   "cell_type": "markdown",
   "id": "63cc0ed0",
   "metadata": {},
   "source": [
    "### Concate two files"
   ]
  },
  {
   "cell_type": "code",
   "execution_count": 27,
   "id": "00de925b",
   "metadata": {},
   "outputs": [
    {
     "data": {
      "text/plain": [
       "(258, 21)"
      ]
     },
     "execution_count": 27,
     "metadata": {},
     "output_type": "execute_result"
    }
   ],
   "source": [
    "fed = pd.concat([fed1,fed2])\n",
    "fed.shape"
   ]
  },
  {
   "cell_type": "code",
   "execution_count": 28,
   "id": "0ac9504f",
   "metadata": {},
   "outputs": [
    {
     "data": {
      "text/plain": [
       "ts             object\n",
       "age           float64\n",
       "sex            object\n",
       "work           object\n",
       "phy_ff          int64\n",
       "phy_health      int64\n",
       "phy_bw          int64\n",
       "phy_ex          int64\n",
       "meal           object\n",
       "height        float64\n",
       "weight        float64\n",
       "exercise       object\n",
       "fruit           int64\n",
       "veg             int64\n",
       "cook            int64\n",
       "spend           int64\n",
       "income          int64\n",
       "gymtime        object\n",
       "disease        object\n",
       "review         object\n",
       "rate            int64\n",
       "dtype: object"
      ]
     },
     "execution_count": 28,
     "metadata": {},
     "output_type": "execute_result"
    }
   ],
   "source": [
    "fed.dtypes"
   ]
  },
  {
   "cell_type": "markdown",
   "id": "aa3bd08e",
   "metadata": {},
   "source": [
    "### Date time format change"
   ]
  },
  {
   "cell_type": "code",
   "execution_count": 37,
   "id": "00fafd23",
   "metadata": {},
   "outputs": [
    {
     "ename": "TypeError",
     "evalue": "strptime() argument 1 must be str, not StringMethods",
     "output_type": "error",
     "traceback": [
      "\u001b[1;31m---------------------------------------------------------------------------\u001b[0m",
      "\u001b[1;31mTypeError\u001b[0m                                 Traceback (most recent call last)",
      "\u001b[1;32mC:\\Users\\SYSTEM~1\\AppData\\Local\\Temp/ipykernel_3228/859164479.py\u001b[0m in \u001b[0;36m<module>\u001b[1;34m\u001b[0m\n\u001b[1;32m----> 1\u001b[1;33m \u001b[0mfed\u001b[0m\u001b[1;33m.\u001b[0m\u001b[0mts\u001b[0m \u001b[1;33m=\u001b[0m \u001b[0mdatetime\u001b[0m\u001b[1;33m.\u001b[0m\u001b[0mdatetime\u001b[0m\u001b[1;33m.\u001b[0m\u001b[0mstrptime\u001b[0m\u001b[1;33m(\u001b[0m\u001b[0mfed\u001b[0m\u001b[1;33m.\u001b[0m\u001b[0mts\u001b[0m\u001b[1;33m.\u001b[0m\u001b[0mstr\u001b[0m\u001b[1;33m,\u001b[0m \u001b[1;34m\"%m/%d/%Y %H:%M:%S\"\u001b[0m\u001b[1;33m)\u001b[0m\u001b[1;33m\u001b[0m\u001b[1;33m\u001b[0m\u001b[0m\n\u001b[0m",
      "\u001b[1;31mTypeError\u001b[0m: strptime() argument 1 must be str, not StringMethods"
     ]
    }
   ],
   "source": [
    "fed.ts = datetime.datetime.strptime(fed.ts.str, \"%m/%d/%Y %H:%M:%S\")"
   ]
  },
  {
   "cell_type": "code",
   "execution_count": 36,
   "id": "7ac17524",
   "metadata": {},
   "outputs": [
    {
     "name": "stdout",
     "output_type": "stream",
     "text": [
      "<pandas.core.strings.accessor.StringMethods object at 0x000002C05BDD6370>\n"
     ]
    }
   ],
   "source": [
    "print(fed.ts.str)"
   ]
  },
  {
   "cell_type": "markdown",
   "id": "7a3bfc71",
   "metadata": {},
   "source": [
    "### Checking for NA values"
   ]
  },
  {
   "cell_type": "code",
   "execution_count": null,
   "id": "d6d5caba",
   "metadata": {},
   "outputs": [],
   "source": []
  },
  {
   "cell_type": "markdown",
   "id": "ebaa8762",
   "metadata": {},
   "source": [
    "### Descripive statistics of the data"
   ]
  },
  {
   "cell_type": "code",
   "execution_count": null,
   "id": "b1ba877d",
   "metadata": {},
   "outputs": [],
   "source": []
  },
  {
   "cell_type": "markdown",
   "id": "01d7a687",
   "metadata": {},
   "source": [
    "### Drop the unnessery columns"
   ]
  },
  {
   "cell_type": "code",
   "execution_count": null,
   "id": "4e16a6f0",
   "metadata": {},
   "outputs": [],
   "source": []
  },
  {
   "cell_type": "markdown",
   "id": "c6be6b79",
   "metadata": {},
   "source": []
  }
 ],
 "metadata": {
  "kernelspec": {
   "display_name": "Python 3 (ipykernel)",
   "language": "python",
   "name": "python3"
  },
  "language_info": {
   "codemirror_mode": {
    "name": "ipython",
    "version": 3
   },
   "file_extension": ".py",
   "mimetype": "text/x-python",
   "name": "python",
   "nbconvert_exporter": "python",
   "pygments_lexer": "ipython3",
   "version": "3.9.7"
  }
 },
 "nbformat": 4,
 "nbformat_minor": 5
}
